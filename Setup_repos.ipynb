{
 "cells": [
  {
   "cell_type": "code",
   "execution_count": null,
   "metadata": {
    "collapsed": false,
    "scrolled": true
   },
   "outputs": [],
   "source": [
    "# install the needed libraries first\n",
    "# !pip install sh github3\n",
    "import sh\n",
    "import os\n",
    "from github3 import login\n",
    "\n",
    "# set to your own path\n",
    "BASE_PATH = '/home/andrea/projects/github'"
   ]
  },
  {
   "cell_type": "code",
   "execution_count": null,
   "metadata": {
    "collapsed": false
   },
   "outputs": [],
   "source": [
    "import github3\n",
    "\n",
    "g = github3.login(os.environ['GITHUB_USERNAME'],\n",
    "                  os.environ['GITHUB_PASSWORD'],\n",
    "                  token=os.environ['GITHUB_TOKEN'])"
   ]
  },
  {
   "cell_type": "code",
   "execution_count": null,
   "metadata": {
    "collapsed": false,
    "scrolled": false
   },
   "outputs": [],
   "source": [
    "def handle_personal(repo):\n",
    "    path = os.path.join(BASE_PATH + '_personal', repo.name)\n",
    "    print(\"Cloning {} to {}\".format(repo.name, path))\n",
    "    if not os.path.isdir(path):\n",
    "        print(sh.git('clone', repo.git_url, path))\n",
    "        \n",
    "def handle_fork(repo):\n",
    "    path = os.path.join(BASE_PATH + '_fork', repo.name)\n",
    "    repo = g.repository(repo.owner, repo.name)\n",
    "    print(\"Cloning {} to {}\".format(repo.name, path))\n",
    "    if not os.path.isdir(path):\n",
    "        print(sh.git('clone', repo.parent.clone_url, path))\n",
    "        print(sh.hub('fork', _cwd=path))\n",
    "\n",
    "for repo in g.repositories(type='public'):\n",
    "    if repo.fork:\n",
    "        handle_fork(repo)\n",
    "    else:\n",
    "        handle_personal(repo)"
   ]
  }
 ],
 "metadata": {
  "kernelspec": {
   "display_name": "Python 3",
   "language": "python",
   "name": "python3"
  },
  "language_info": {
   "codemirror_mode": {
    "name": "ipython",
    "version": 3
   },
   "file_extension": ".py",
   "mimetype": "text/x-python",
   "name": "python",
   "nbconvert_exporter": "python",
   "pygments_lexer": "ipython3",
   "version": "3.5.2"
  }
 },
 "nbformat": 4,
 "nbformat_minor": 2
}
